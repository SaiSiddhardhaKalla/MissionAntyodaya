{
 "cells": [
  {
   "cell_type": "markdown",
   "id": "ea44df79",
   "metadata": {},
   "source": [
    "## Importing Modules\n"
   ]
  },
  {
   "cell_type": "code",
   "execution_count": null,
   "id": "9dafeaac",
   "metadata": {},
   "outputs": [],
   "source": [
    "import pandas as pd\n",
    "from random import randint\n",
    "from time import sleep\n",
    "from selenium import webdriver\n",
    "import selenium \n",
    "# from selenium.webdriver.chrome.options import Options\n",
    "from selenium.webdriver.edge.options import Options\n",
    "from selenium.webdriver.edge.service import Service\n",
    "# from selenium.webdriver.safari.options import Options\n",
    "from selenium.webdriver.common.desired_capabilities import DesiredCapabilities\n",
    "from selenium.webdriver.support.ui import WebDriverWait\n",
    "from selenium.webdriver.common.by import By\n",
    "from selenium.webdriver.support import expected_conditions as EC\n",
    "from selenium.webdriver.support.ui import Select\n",
    "from selenium.webdriver.common.keys import Keys\n",
    "import time\n",
    "# !pip install fake-useragent\n",
    "# from fake_useragent import UserAgent\n",
    "from bs4 import BeautifulSoup\n",
    "import requests\n",
    "import lxml\n",
    "import numpy as np\n",
    "from selenium.common.exceptions import NoSuchElementException\n",
    "from selenium.common.exceptions import StaleElementReferenceException"
   ]
  },
  {
   "cell_type": "markdown",
   "id": "0a0d2191",
   "metadata": {},
   "source": [
    "## URL & Webdrivers"
   ]
  },
  {
   "cell_type": "markdown",
   "id": "06dd659e",
   "metadata": {},
   "source": [
    "### Safari"
   ]
  },
  {
   "cell_type": "code",
   "execution_count": null,
   "id": "b97965b4",
   "metadata": {},
   "outputs": [],
   "source": [
    "\n",
    "# ### Safari Code:\n",
    "# ## Paste url\n",
    "# url = 'https://missionantyodaya.nic.in/preloginRankingOfGp2020.html'\n",
    "\n",
    "# options = Options()\n",
    "# # download_dir = '/Users/sid/Downloads/MA'\n",
    "# prefs = {'download.default_directory' : '/Users/sid/Documents/MA/GJ (24)'}\n",
    "# options.add_experimental_option(\"prefs\",prefs)\n",
    "\n",
    "# # browser = webdriver.safari.webdriver.WebDriver(quiet=False)\n",
    "# driver = webdriver.Safari()\n",
    "# driver.get(url)"
   ]
  },
  {
   "cell_type": "markdown",
   "id": "50814628",
   "metadata": {},
   "source": [
    "### Edge"
   ]
  },
  {
   "cell_type": "code",
   "execution_count": null,
   "id": "9e595711",
   "metadata": {},
   "outputs": [],
   "source": [
    "\n",
    "### Edge Code:\n",
    "## Paste url\n",
    "# url = 'https://missionantyodaya.nic.in/ma2018/preloginScoreOfGp2018.html'\n",
    "url = 'https://missionantyodaya.nic.in/preloginRankingOfGp2020.html'\n",
    "## Options\n",
    "options = Options()\n",
    "# download_dir = '/Users/sid/Downloads/MA'\n",
    "prefs = {'download.default_directory' : '/Users/sid/Documents/MA/PB'}\n",
    "options.add_experimental_option(\"prefs\",prefs)\n",
    "##Driver\n",
    "# edge_driver_path = '/Users/sid/Downloads/edgedriver_mac64/msedgedriver'\n",
    "edge_driver_path = Service('/Users/sid/Downloads/edgedriver_mac64/msedgedriver')\n",
    "driver = webdriver.Edge(service=edge_driver_path,options=options)\n",
    "driver.get(url)"
   ]
  },
  {
   "cell_type": "markdown",
   "id": "aa269da2",
   "metadata": {},
   "source": [
    "### Chrome"
   ]
  },
  {
   "cell_type": "code",
   "execution_count": null,
   "id": "49afce0a",
   "metadata": {},
   "outputs": [],
   "source": [
    "\n",
    "# # ### Chrome Code:\n",
    "# # url = 'https://missionantyodaya.nic.in/ma2018/preloginScoreOfGp2018.html'\n",
    "# url = 'https://missionantyodaya.nic.in/preloginRankingOfGp2020.html'\n",
    "# chrome_driver_path = '/Users/sid/Downloads/chromedriver'\n",
    "# # chrome_driver_path = '/Users/sid/opt/anaconda3/pkgs/chromedriver/chromedriver'\n",
    "\n",
    "# options = Options()\n",
    "# # download_dir = '/Users/sid/Downloads/MA'\n",
    "# prefs = {'download.default_directory' : '/Users/sid/Documents/MA/LD (37)'}\n",
    "# options.add_experimental_option(\"prefs\",prefs)\n",
    "# ##Driver\n",
    "\n",
    "# driver = webdriver.Chrome(executable_path=chrome_driver_path,options=options)\n",
    "# driver.get(url)"
   ]
  },
  {
   "cell_type": "markdown",
   "id": "d83a96fc",
   "metadata": {},
   "source": [
    "## Selecting State Data"
   ]
  },
  {
   "cell_type": "code",
   "execution_count": null,
   "id": "a0c88c3a",
   "metadata": {},
   "outputs": [],
   "source": [
    "\n",
    "## Use Select in xpath to select state name \n",
    "state_dropdown = Select(driver.find_element(By.XPATH,'//*[@id=\"stateCode\"]'))\n",
    "state_options = state_dropdown.options\n",
    "\n",
    "## Create empty list of states\n",
    "states_list = []\n",
    "for option in state_options:\n",
    "    states_list.append(option.text) ## State name in option\n",
    "\n",
    "print(states_list)\n",
    "\n",
    "choice = states_list[29]\n",
    "state_dropdown.select_by_visible_text(choice)"
   ]
  },
  {
   "cell_type": "code",
   "execution_count": null,
   "id": "6fcaadcb",
   "metadata": {},
   "outputs": [],
   "source": [
    "states_list[38]"
   ]
  },
  {
   "cell_type": "markdown",
   "id": "da0b6543",
   "metadata": {},
   "source": [
    "### Method 1: Loop through district dist"
   ]
  },
  {
   "cell_type": "code",
   "execution_count": null,
   "id": "6b3689e2",
   "metadata": {},
   "outputs": [],
   "source": [
    "\n",
    "# ## Use Select in xpath to select district name\n",
    "# dist_dropdown = Select(driver.find_element(By.XPATH,'//*[@id=\"districtCode\"]'))\n",
    "# dist_options = dist_dropdown.options\n",
    "\n",
    "# ## Create empty list of districts\n",
    "# dist_list = []\n",
    "# for option in dist_options:\n",
    "#     dist_list.append(option.text) ## State name in option\n",
    "\n",
    "# print(dist_list)\n",
    "\n",
    "# dist_dropdown.select_by_visible_text(dist_list[28])"
   ]
  },
  {
   "cell_type": "markdown",
   "id": "72dee8a3",
   "metadata": {},
   "source": [
    "### Method 2: Set a custom range "
   ]
  },
  {
   "cell_type": "code",
   "execution_count": null,
   "id": "e4472f29",
   "metadata": {},
   "outputs": [],
   "source": [
    "\n",
    "## Use Select in xpath to select score criteria\n",
    "score_dropdown = Select(driver.find_element(By.XPATH, '//*[@id=\"rankingOfGp\"]'))\n",
    "score_dropdown.select_by_value('customFilter')"
   ]
  },
  {
   "cell_type": "markdown",
   "id": "01c81f31",
   "metadata": {},
   "source": [
    "### Submit Button"
   ]
  },
  {
   "cell_type": "code",
   "execution_count": null,
   "id": "2c105a66",
   "metadata": {},
   "outputs": [],
   "source": [
    "\n",
    "## Submit button\n",
    "submit = driver.find_element(By.XPATH,'//*[@id=\"SubmitButton\"]')\n",
    "# print(submit.text)\n",
    "# //*[@id=\"SubmitButton\"]\n",
    "\n",
    "# WebElement submit = browser.findElement(By.XPATH,'//*[@id=\"SubmitButton\"]');\n",
    "# JavascriptExecutor executor = (JavascriptExecutor)browser;\n",
    "# executor.executeScript(\"arguments[0].click();\", submit);\n",
    "\n",
    "submit.click()"
   ]
  },
  {
   "cell_type": "markdown",
   "id": "97cf626e",
   "metadata": {},
   "source": [
    "\n",
    "### Range values"
   ]
  },
  {
   "cell_type": "code",
   "execution_count": null,
   "id": "cb37da70",
   "metadata": {},
   "outputs": [],
   "source": [
    "\n",
    "## Lower Limit\n",
    "lower = driver.find_element(By.XPATH, '//*[@id=\"customeFilterStartFrom\"]')\n",
    "lower.send_keys('1')\n",
    "\n",
    "## Upper Limit\n",
    "upper = driver.find_element(By.XPATH,'//*[@id=\"customeFilterEndFrom\"]')\n",
    "upper.send_keys('99')\n",
    "\n",
    "# upper.submit()\n",
    "\n",
    "## Filter submit button\n",
    "fil_submit = driver.find_element(By.XPATH,'//*[@id=\"customeFilterSearchButton\"]')\n",
    "\n",
    "fil_submit.click()"
   ]
  },
  {
   "cell_type": "markdown",
   "id": "37146b8e",
   "metadata": {},
   "source": [
    "### Show all in a single page"
   ]
  },
  {
   "cell_type": "code",
   "execution_count": null,
   "id": "9c039e60",
   "metadata": {},
   "outputs": [],
   "source": [
    "\n",
    "## Show all button\n",
    "show = driver.find_element(By.XPATH, '//*[@id=\"example_wrapper\"]/div[1]/button[1]').click()\n",
    "\n",
    "div_tag = driver.find_element(By.XPATH,'//*[@id=\"example_wrapper\"]/div[1]/div')\n",
    "\n",
    "select_all = div_tag.find_element(By.XPATH, '//*[@id=\"example_wrapper\"]/div[1]/div/button[4]')\n",
    "select_all.click()\n"
   ]
  },
  {
   "cell_type": "markdown",
   "id": "4e30e5c4",
   "metadata": {},
   "source": [
    "## Dowload Function"
   ]
  },
  {
   "cell_type": "code",
   "execution_count": null,
   "id": "8e32919e",
   "metadata": {},
   "outputs": [],
   "source": [
    "\n",
    "## Output table:\n",
    "table_tag = driver.find_element(By.XPATH,'//*[@id=\"example\"]')\n",
    "tr_tag = table_tag.find_elements(By.TAG_NAME,'tr')\n",
    "len(tr_tag)"
   ]
  },
  {
   "cell_type": "code",
   "execution_count": null,
   "id": "916412d4",
   "metadata": {},
   "outputs": [],
   "source": [
    "\n",
    "## Create a list of xpaths on the links:\n",
    "xpaths=[]\n",
    "for i in range(0, len(tr_tag)+1):\n",
    "    xpaths.append('//*[@id=\"example\"]/tbody/tr['+ str(i) +']/td[7]/a')\n",
    "\n",
    "# xpaths[10]"
   ]
  },
  {
   "cell_type": "code",
   "execution_count": null,
   "id": "b636fd23",
   "metadata": {},
   "outputs": [],
   "source": [
    "links=[]\n",
    "for xpath in xpaths:\n",
    "    try:\n",
    "        links.append(driver.find_element_by_xpath(xpath).get_attribute('href')) ## Can cause crash if too large using method 2\n",
    "        # links.append(driver.find_element(By.XPATH, 'xpath').get_attribute('href')) ## Unable to obtain href with this\n",
    "    except NoSuchElementException:\n",
    "        pass\n",
    "\n",
    "len(links)"
   ]
  },
  {
   "cell_type": "code",
   "execution_count": null,
   "id": "2d8ec1a5",
   "metadata": {},
   "outputs": [],
   "source": [
    "for link in links:\n",
    "    driver.get(link)"
   ]
  },
  {
   "cell_type": "markdown",
   "id": "4a3cdb53",
   "metadata": {},
   "source": [
    "## Master Loop"
   ]
  },
  {
   "cell_type": "code",
   "execution_count": null,
   "id": "5c933cd1",
   "metadata": {},
   "outputs": [],
   "source": [
    "\n",
    "### Edge Code:\n",
    "## Paste url\n",
    "# url = 'https://missionantyodaya.nic.in/ma2018/preloginScoreOfGp2018.html'\n",
    "url = 'https://missionantyodaya.nic.in/preloginRankingOfGp2020.html'\n",
    "## Options\n",
    "options = Options()\n",
    "# download_dir = '/Users/sid/Downloads/MA'\n",
    "prefs = {'download.default_directory' : '/Users/sid/Documents/MA/UP'}\n",
    "options.add_experimental_option(\"prefs\",prefs)\n",
    "##Driver\n",
    "# edge_driver_path = '/Users/sid/Downloads/edgedriver_mac64/msedgedriver'\n",
    "edge_driver_path = Service('/Users/sid/Downloads/edgedriver_mac64/msedgedriver')\n",
    "driver = webdriver.Edge(service=edge_driver_path,options=options)\n",
    "driver.get(url)\n",
    "\n",
    "## Use Select in xpath to select state name \n",
    "state_dropdown = Select(driver.find_element(By.XPATH,'//*[@id=\"stateCode\"]'))\n",
    "state_options = state_dropdown.options\n",
    "\n",
    "## Create empty list of states\n",
    "states_list = []\n",
    "for option in state_options:\n",
    "    states_list.append(option.text) ## State name in option\n",
    "\n",
    "# print(states_list)\n",
    "\n",
    "choice = states_list[37]\n",
    "state_dropdown.select_by_visible_text(choice)\n",
    "\n",
    "time.sleep(5)\n",
    "\n",
    "## Use Select in xpath to select district name\n",
    "dist_dropdown = Select(driver.find_element(By.XPATH,'//*[@id=\"districtCode\"]'))\n",
    "dist_options = dist_dropdown.options\n",
    "\n",
    "# time.sleep(5)\n",
    "\n",
    "## Create empty list of districts\n",
    "dist_list = []\n",
    "for dist in dist_options:\n",
    "    dist_list.append(dist.text) ## State name in option\n",
    "\n",
    "print(dist_list)\n",
    "\n",
    "for district in dist_list[1:]:\n",
    "    print(district)\n",
    "    browser_p = webdriver.Edge(service=edge_driver_path,options=options)\n",
    "    \n",
    "    browser_p.get(url)\n",
    "    \n",
    "    # Selecting state dropdown\n",
    "    state_dropdown=Select(browser_p.find_element(By.XPATH,'//*[@id=\"stateCode\"]'))\n",
    "    state_dropdown.select_by_visible_text(choice)\n",
    "    time.sleep(2)\n",
    "    \n",
    "    # Selecting district dropdown\n",
    "    district_dropdown=Select(browser_p.find_element(By.XPATH,'//*[@id=\"districtCode\"]'))\n",
    "    district_dropdown.select_by_visible_text(district)\n",
    "    time.sleep(2)\n",
    "    \n",
    "    submit = browser_p.find_element(By.XPATH,'//*[@id=\"SubmitButton\"]')\n",
    "    submit.click()\n",
    "    \n",
    "    time.sleep(5)\n",
    "\n",
    "    # Finding rows options\n",
    "    browser_p.find_element(By.XPATH,'//*[@id=\"example_wrapper\"]/div[1]/button[1]').click()\n",
    "\n",
    "    div_tag = browser_p.find_element(By.XPATH,'//*[@id=\"example_wrapper\"]/div[1]/div')\n",
    "\n",
    "    select_all = div_tag.find_element(By.XPATH,'//*[@id=\"example_wrapper\"]/div[1]/div/button[4]')\n",
    "    select_all.click()\n",
    "    \n",
    "    table_tag = browser_p.find_element(By.XPATH,'//*[@id=\"example\"]/tbody')\n",
    "\n",
    "    rows_tag=table_tag.find_elements(By.TAG_NAME,'tr')\n",
    "\n",
    "    print(len(rows_tag))\n",
    "\n",
    "    ## Create a list of xpaths on the links:\n",
    "    xpaths=[]\n",
    "    for i in range(0, len(rows_tag)+1):\n",
    "        xpaths.append('//*[@id=\"example\"]/tbody/tr['+ str(i) +']/td[7]/a')\n",
    "\n",
    "    # xpaths[10]\n",
    "\n",
    "    ## Create a list of links:\n",
    "    links=[]\n",
    "    for xpath in xpaths:\n",
    "        try:\n",
    "            links.append(browser_p.find_element_by_xpath(xpath).get_attribute('href')) ## Can cause crash if too many rows_tag using method 2\n",
    "            # links.append(browser_p.find_element(By.XPATH, 'xpath').get_attribute('href')) ## Unable to obtain href with this\n",
    "        except NoSuchElementException:\n",
    "            pass\n",
    "\n",
    "    print(len(links))\n",
    "\n",
    "    for link in links:\n",
    "        browser_p.get(link)\n",
    "\n",
    "    time.sleep(20) ##  Change according to internet speed\n",
    "    browser_p.quit()\n",
    "    "
   ]
  },
  {
   "cell_type": "code",
   "execution_count": null,
   "id": "5dad4d0d",
   "metadata": {},
   "outputs": [],
   "source": [
    "dist_list[70]"
   ]
  },
  {
   "cell_type": "code",
   "execution_count": null,
   "id": "bed460d4",
   "metadata": {},
   "outputs": [],
   "source": [
    "states_list[14]"
   ]
  }
 ],
 "metadata": {
  "interpreter": {
   "hash": "9d14b9ef065a62ebefff3d4e52466e399ec66c79f9b10fc53b5af93856d3c7f9"
  },
  "kernelspec": {
   "display_name": "Python 3.9.7 ('base')",
   "language": "python",
   "name": "python3"
  },
  "language_info": {
   "codemirror_mode": {
    "name": "ipython",
    "version": 3
   },
   "file_extension": ".py",
   "mimetype": "text/x-python",
   "name": "python",
   "nbconvert_exporter": "python",
   "pygments_lexer": "ipython3",
   "version": "3.9.7"
  }
 },
 "nbformat": 4,
 "nbformat_minor": 5
}
